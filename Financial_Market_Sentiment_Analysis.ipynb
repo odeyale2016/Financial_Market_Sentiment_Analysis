{
 "cells": [
  {
   "cell_type": "markdown",
   "metadata": {},
   "source": [
    "# Title of Project"
   ]
  },
  {
   "cell_type": "markdown",
   "metadata": {
    "id": "618o9tWAxUTF"
   },
   "source": [
    "Financial Market News Sentiment Analysis"
   ]
  },
  {
   "cell_type": "markdown",
   "metadata": {
    "id": "uJejR6goxbAO"
   },
   "source": [
    "## **Objectives**"
   ]
  },
  {
   "cell_type": "code",
   "execution_count": 6,
   "metadata": {},
   "outputs": [
    {
     "ename": "SyntaxError",
     "evalue": "invalid syntax (44105147.py, line 1)",
     "output_type": "error",
     "traceback": [
      "\u001b[1;36m  Cell \u001b[1;32mIn[6], line 1\u001b[1;36m\u001b[0m\n\u001b[1;33m    To analyze Financial Market News based on sentiment\u001b[0m\n\u001b[1;37m       ^\u001b[0m\n\u001b[1;31mSyntaxError\u001b[0m\u001b[1;31m:\u001b[0m invalid syntax\n"
     ]
    }
   ],
   "source": [
    "To analyze Financial Market News based on sentiment"
   ]
  },
  {
   "cell_type": "markdown",
   "metadata": {},
   "source": [
    "# Data Source"
   ]
  },
  {
   "cell_type": "markdown",
   "metadata": {},
   "source": [
    " From YBI Foundation GitHub we take this dataset."
   ]
  },
  {
   "cell_type": "markdown",
   "metadata": {
    "id": "FljUF37VvbY3"
   },
   "source": [
    "# Import library"
   ]
  },
  {
   "cell_type": "code",
   "execution_count": null,
   "metadata": {
    "executionInfo": {
     "elapsed": 556,
     "status": "ok",
     "timestamp": 1687263528536,
     "user": {
      "displayName": "GAYATRI SONAWANE",
      "userId": "15906289157141524786"
     },
     "user_tz": -330
    },
    "id": "Ue3BFqoNuOHe"
   },
   "outputs": [],
   "source": [
    "import pandas as pd\n",
    "import numpy as np"
   ]
  },
  {
   "cell_type": "markdown",
   "metadata": {
    "id": "FsMgNql-v1FQ"
   },
   "source": [
    "# Import dataset"
   ]
  },
  {
   "cell_type": "code",
   "execution_count": null,
   "metadata": {
    "executionInfo": {
     "elapsed": 686,
     "status": "ok",
     "timestamp": 1687264360313,
     "user": {
      "displayName": "GAYATRI SONAWANE",
      "userId": "15906289157141524786"
     },
     "user_tz": -330
    },
    "id": "HHtMrqTrxBiS"
   },
   "outputs": [],
   "source": [
    "df = pd.read_csv(r'https://raw.githubusercontent.com/YBI-Foundation/Dataset/main/Financial%20Market%20News.csv',  encoding = \"ISO-8859-1\")"
   ]
  },
  {
   "cell_type": "code",
   "execution_count": null,
   "metadata": {
    "colab": {
     "base_uri": "https://localhost:8080/",
     "height": 768
    },
    "executionInfo": {
     "elapsed": 11,
     "status": "ok",
     "timestamp": 1687264370907,
     "user": {
      "displayName": "GAYATRI SONAWANE",
      "userId": "15906289157141524786"
     },
     "user_tz": -330
    },
    "id": "_PNDaPuox2Vx",
    "outputId": "b504a156-1d8b-4cef-d3e3-30cd4202f677"
   },
   "outputs": [],
   "source": [
    "df.head()"
   ]
  },
  {
   "cell_type": "markdown",
   "metadata": {},
   "source": [
    "# Describe Data"
   ]
  },
  {
   "cell_type": "code",
   "execution_count": null,
   "metadata": {
    "colab": {
     "base_uri": "https://localhost:8080/"
    },
    "executionInfo": {
     "elapsed": 694,
     "status": "ok",
     "timestamp": 1687264415325,
     "user": {
      "displayName": "GAYATRI SONAWANE",
      "userId": "15906289157141524786"
     },
     "user_tz": -330
    },
    "id": "h4hAzimGyxxr",
    "outputId": "ed6099b6-0d64-40e5-c5f2-11ed5d1c390d"
   },
   "outputs": [],
   "source": [
    "df.info()"
   ]
  },
  {
   "cell_type": "code",
   "execution_count": null,
   "metadata": {
    "colab": {
     "base_uri": "https://localhost:8080/"
    },
    "executionInfo": {
     "elapsed": 7,
     "status": "ok",
     "timestamp": 1687264442267,
     "user": {
      "displayName": "GAYATRI SONAWANE",
      "userId": "15906289157141524786"
     },
     "user_tz": -330
    },
    "id": "yo5kNjahy8Zj",
    "outputId": "07bd0759-0f3a-4d0f-f44d-976d682c5021"
   },
   "outputs": [],
   "source": [
    "df.shape"
   ]
  },
  {
   "cell_type": "code",
   "execution_count": 7,
   "metadata": {
    "colab": {
     "base_uri": "https://localhost:8080/"
    },
    "executionInfo": {
     "elapsed": 8,
     "status": "ok",
     "timestamp": 1687264453540,
     "user": {
      "displayName": "GAYATRI SONAWANE",
      "userId": "15906289157141524786"
     },
     "user_tz": -330
    },
    "id": "LK97lIorzDG6",
    "outputId": "4b96d013-d3c4-4397-e68e-030ecfd466ec"
   },
   "outputs": [
    {
     "data": {
      "text/plain": [
       "Index(['Date', 'Label', 'News 1', 'News 2', 'News 3', 'News 4', 'News 5',\n",
       "       'News 6', 'News 7', 'News 8', 'News 9', 'News 10', 'News 11', 'News 12',\n",
       "       'News 13', 'News 14', 'News 15', 'News 16', 'News 17', 'News 18',\n",
       "       'News 19', 'News 20', 'News 21', 'News 22', 'News 23', 'News 24',\n",
       "       'News 25'],\n",
       "      dtype='object')"
      ]
     },
     "execution_count": 7,
     "metadata": {},
     "output_type": "execute_result"
    }
   ],
   "source": [
    "df.columns"
   ]
  },
  {
   "cell_type": "markdown",
   "metadata": {},
   "source": [
    "# Data Preprocessing"
   ]
  },
  {
   "cell_type": "markdown",
   "metadata": {
    "id": "u3Wr3JdDzH-W"
   },
   "source": [
    "# Get Feature Selection"
   ]
  },
  {
   "cell_type": "code",
   "execution_count": 8,
   "metadata": {
    "colab": {
     "base_uri": "https://localhost:8080/",
     "height": 105
    },
    "executionInfo": {
     "elapsed": 13,
     "status": "ok",
     "timestamp": 1687264528432,
     "user": {
      "displayName": "GAYATRI SONAWANE",
      "userId": "15906289157141524786"
     },
     "user_tz": -330
    },
    "id": "U240KfzJzFaS",
    "outputId": "665a1108-71c1-4eee-d8bd-b8cab677f97c"
   },
   "outputs": [
    {
     "data": {
      "text/plain": [
       "\"Warning from history points to crash Investors flee to dollar haven Banks and tobacco in favour Review: Llama Farmers War jitters lead to sell-off Your not-so-secret history Review: The Northern Sinfonia Review: Hysteria Review: The Guardsman Opera: The Marriage of Figaro Review: The Turk in Italy Deutsche spells out its plans for diversification Traders' panic sends oil prices skyward TV sport chief leaves home over romance Leader: Hi-tech twitch Why Wenger will stick to his Gunners Out of luck England hit rock bottom Wilkinson out of his depth Kinsella sparks Irish power play Brown banished as Scots rebound Battling Wales cling to lifeline Ehiogu close to sealing Boro move Man-to-man marking Match stats French referee at centre of storm is no stranger to controversy\""
      ]
     },
     "execution_count": 8,
     "metadata": {},
     "output_type": "execute_result"
    }
   ],
   "source": [
    "' '.join(str(x) for x in df.iloc[1,2:27])"
   ]
  },
  {
   "cell_type": "code",
   "execution_count": 9,
   "metadata": {
    "colab": {
     "base_uri": "https://localhost:8080/"
    },
    "executionInfo": {
     "elapsed": 7,
     "status": "ok",
     "timestamp": 1687264541938,
     "user": {
      "displayName": "GAYATRI SONAWANE",
      "userId": "15906289157141524786"
     },
     "user_tz": -330
    },
    "id": "2d2JEmcUzYRr",
    "outputId": "2e183a4e-1726-46fd-f28d-530c35f341e9"
   },
   "outputs": [
    {
     "data": {
      "text/plain": [
       "RangeIndex(start=0, stop=4101, step=1)"
      ]
     },
     "execution_count": 9,
     "metadata": {},
     "output_type": "execute_result"
    }
   ],
   "source": [
    "df.index"
   ]
  },
  {
   "cell_type": "code",
   "execution_count": 10,
   "metadata": {
    "colab": {
     "base_uri": "https://localhost:8080/"
    },
    "executionInfo": {
     "elapsed": 8,
     "status": "ok",
     "timestamp": 1687264554780,
     "user": {
      "displayName": "GAYATRI SONAWANE",
      "userId": "15906289157141524786"
     },
     "user_tz": -330
    },
    "id": "mxt4eBCezbZa",
    "outputId": "6ac71d94-31b9-4016-8754-46db7ad9e1ac"
   },
   "outputs": [
    {
     "data": {
      "text/plain": [
       "4101"
      ]
     },
     "execution_count": 10,
     "metadata": {},
     "output_type": "execute_result"
    }
   ],
   "source": [
    "len(df.index)"
   ]
  },
  {
   "cell_type": "code",
   "execution_count": 11,
   "metadata": {
    "executionInfo": {
     "elapsed": 1341,
     "status": "ok",
     "timestamp": 1687264665052,
     "user": {
      "displayName": "GAYATRI SONAWANE",
      "userId": "15906289157141524786"
     },
     "user_tz": -330
    },
    "id": "xWFI5DuEzeln"
   },
   "outputs": [],
   "source": [
    "news = []\n",
    "for row in range(0,len(df.index)):\n",
    "  news.append(''.join(str(x) for x in df.iloc[row, 2:27]))"
   ]
  },
  {
   "cell_type": "code",
   "execution_count": 12,
   "metadata": {
    "colab": {
     "base_uri": "https://localhost:8080/"
    },
    "executionInfo": {
     "elapsed": 8,
     "status": "ok",
     "timestamp": 1687264680016,
     "user": {
      "displayName": "GAYATRI SONAWANE",
      "userId": "15906289157141524786"
     },
     "user_tz": -330
    },
    "id": "6DdA690pz3Qc",
    "outputId": "f80e66b3-be5b-4fff-8025-6f0c8c4242f3"
   },
   "outputs": [
    {
     "data": {
      "text/plain": [
       "list"
      ]
     },
     "execution_count": 12,
     "metadata": {},
     "output_type": "execute_result"
    }
   ],
   "source": [
    "type(news)"
   ]
  },
  {
   "cell_type": "code",
   "execution_count": 13,
   "metadata": {
    "colab": {
     "base_uri": "https://localhost:8080/",
     "height": 105
    },
    "executionInfo": {
     "elapsed": 10,
     "status": "ok",
     "timestamp": 1687264686617,
     "user": {
      "displayName": "GAYATRI SONAWANE",
      "userId": "15906289157141524786"
     },
     "user_tz": -330
    },
    "id": "8o4Db3zIz9KI",
    "outputId": "7cad2f7b-2cc2-4167-e5a7-5880277b7bd2"
   },
   "outputs": [
    {
     "data": {
      "text/plain": [
       "\"McIlroy's men catch cold from GudjonssonObituary: Brian WalshWorkplace blues leave employers in the redClassical review: RattleDance review: Merce CunninghamGenetic tests to be used in setting premiumsOpera review: La BohèmePop review: Britney SpearsTheatre review: The CircleWales face a fraught nightUnder-21  round-upSmith off to blot his copybookFinns taking the mickeyPraise wasted as Brown studies injury optionsIreland wary of minnowsFinland 0 - 0 EnglandHealy a marked manHappy birthday Harpers & QueenWin unlimited access to the Raindance film festivalLabour pledges £800m to bridge north-south divideWales: Lib-Lab pact firm despite resignationDonald DewarRegenerating homes  regenerates well-being in peopleWin £100 worth of underwearTV guide: Random views\""
      ]
     },
     "execution_count": 13,
     "metadata": {},
     "output_type": "execute_result"
    }
   ],
   "source": [
    "news[0]"
   ]
  },
  {
   "cell_type": "code",
   "execution_count": 14,
   "metadata": {
    "executionInfo": {
     "elapsed": 6,
     "status": "ok",
     "timestamp": 1687264702408,
     "user": {
      "displayName": "GAYATRI SONAWANE",
      "userId": "15906289157141524786"
     },
     "user_tz": -330
    },
    "id": "wyrDN8cGz-zW"
   },
   "outputs": [],
   "source": [
    "X = news"
   ]
  },
  {
   "cell_type": "code",
   "execution_count": 15,
   "metadata": {
    "colab": {
     "base_uri": "https://localhost:8080/"
    },
    "executionInfo": {
     "elapsed": 6,
     "status": "ok",
     "timestamp": 1687264722034,
     "user": {
      "displayName": "GAYATRI SONAWANE",
      "userId": "15906289157141524786"
     },
     "user_tz": -330
    },
    "id": "Zzh9aE6s0CkB",
    "outputId": "c7355b8c-1cbe-4bd6-be35-da804153f665"
   },
   "outputs": [
    {
     "data": {
      "text/plain": [
       "list"
      ]
     },
     "execution_count": 15,
     "metadata": {},
     "output_type": "execute_result"
    }
   ],
   "source": [
    "type(X)"
   ]
  },
  {
   "cell_type": "markdown",
   "metadata": {
    "id": "dDAUCc2K0I5o"
   },
   "source": [
    "# Get Features Text Conversation to Bag of words"
   ]
  },
  {
   "cell_type": "code",
   "execution_count": 16,
   "metadata": {
    "executionInfo": {
     "elapsed": 7,
     "status": "ok",
     "timestamp": 1687264805598,
     "user": {
      "displayName": "GAYATRI SONAWANE",
      "userId": "15906289157141524786"
     },
     "user_tz": -330
    },
    "id": "OmYRLsaR0HYb"
   },
   "outputs": [],
   "source": [
    "from sklearn.feature_extraction.text import CountVectorizer"
   ]
  },
  {
   "cell_type": "code",
   "execution_count": 17,
   "metadata": {
    "executionInfo": {
     "elapsed": 5,
     "status": "ok",
     "timestamp": 1687264838895,
     "user": {
      "displayName": "GAYATRI SONAWANE",
      "userId": "15906289157141524786"
     },
     "user_tz": -330
    },
    "id": "dLJZm40k0b58"
   },
   "outputs": [],
   "source": [
    "cv = CountVectorizer(lowercase= True,ngram_range=(1,1))"
   ]
  },
  {
   "cell_type": "code",
   "execution_count": 18,
   "metadata": {
    "executionInfo": {
     "elapsed": 1546,
     "status": "ok",
     "timestamp": 1687264875770,
     "user": {
      "displayName": "GAYATRI SONAWANE",
      "userId": "15906289157141524786"
     },
     "user_tz": -330
    },
    "id": "ozbBiGHI0kH5"
   },
   "outputs": [],
   "source": [
    "X = cv.fit_transform(X)"
   ]
  },
  {
   "cell_type": "code",
   "execution_count": 19,
   "metadata": {
    "colab": {
     "base_uri": "https://localhost:8080/"
    },
    "executionInfo": {
     "elapsed": 413,
     "status": "ok",
     "timestamp": 1687264893921,
     "user": {
      "displayName": "GAYATRI SONAWANE",
      "userId": "15906289157141524786"
     },
     "user_tz": -330
    },
    "id": "PxCtAYI70sje",
    "outputId": "200e6006-40b1-4d4c-ac69-9b209145d10a"
   },
   "outputs": [
    {
     "data": {
      "text/plain": [
       "(4101, 108682)"
      ]
     },
     "execution_count": 19,
     "metadata": {},
     "output_type": "execute_result"
    }
   ],
   "source": [
    "X.shape"
   ]
  },
  {
   "cell_type": "code",
   "execution_count": 20,
   "metadata": {
    "executionInfo": {
     "elapsed": 5,
     "status": "ok",
     "timestamp": 1687264928465,
     "user": {
      "displayName": "GAYATRI SONAWANE",
      "userId": "15906289157141524786"
     },
     "user_tz": -330
    },
    "id": "G2c-YXgm0xX9"
   },
   "outputs": [],
   "source": [
    "y = df ['Label']"
   ]
  },
  {
   "cell_type": "code",
   "execution_count": 31,
   "metadata": {
    "colab": {
     "base_uri": "https://localhost:8080/"
    },
    "executionInfo": {
     "elapsed": 6,
     "status": "ok",
     "timestamp": 1687264935851,
     "user": {
      "displayName": "GAYATRI SONAWANE",
      "userId": "15906289157141524786"
     },
     "user_tz": -330
    },
    "id": "qSTCv8By03_O",
    "outputId": "ab7b8f07-ed7e-43c6-ed3f-86538773ba4a"
   },
   "outputs": [
    {
     "data": {
      "text/plain": [
       "(4101,)"
      ]
     },
     "execution_count": 31,
     "metadata": {},
     "output_type": "execute_result"
    }
   ],
   "source": [
    "y.shape"
   ]
  },
  {
   "cell_type": "markdown",
   "metadata": {
    "id": "PkECBuh408or"
   },
   "source": [
    "# Get train Test split"
   ]
  },
  {
   "cell_type": "code",
   "execution_count": 21,
   "metadata": {
    "executionInfo": {
     "elapsed": 401,
     "status": "ok",
     "timestamp": 1687264992223,
     "user": {
      "displayName": "GAYATRI SONAWANE",
      "userId": "15906289157141524786"
     },
     "user_tz": -330
    },
    "id": "opxEnz8907hB"
   },
   "outputs": [],
   "source": [
    "from sklearn.model_selection import train_test_split"
   ]
  },
  {
   "cell_type": "code",
   "execution_count": 22,
   "metadata": {
    "executionInfo": {
     "elapsed": 455,
     "status": "ok",
     "timestamp": 1687265128933,
     "user": {
      "displayName": "GAYATRI SONAWANE",
      "userId": "15906289157141524786"
     },
     "user_tz": -330
    },
    "id": "w_D4gd4C1JX5"
   },
   "outputs": [],
   "source": [
    "X_train, X_test, y_train, y_test = train_test_split(X, y, test_size = 0.3, stratify = y, random_state = 2529)"
   ]
  },
  {
   "cell_type": "code",
   "execution_count": 23,
   "metadata": {
    "executionInfo": {
     "elapsed": 412,
     "status": "ok",
     "timestamp": 1687265202509,
     "user": {
      "displayName": "GAYATRI SONAWANE",
      "userId": "15906289157141524786"
     },
     "user_tz": -330
    },
    "id": "WuxnGiY91WaQ"
   },
   "outputs": [],
   "source": [
    "from sklearn.ensemble import RandomForestClassifier"
   ]
  },
  {
   "cell_type": "code",
   "execution_count": 24,
   "metadata": {
    "executionInfo": {
     "elapsed": 4,
     "status": "ok",
     "timestamp": 1687265233116,
     "user": {
      "displayName": "GAYATRI SONAWANE",
      "userId": "15906289157141524786"
     },
     "user_tz": -330
    },
    "id": "Dq9kWci018tb"
   },
   "outputs": [],
   "source": [
    "rf = RandomForestClassifier(n_estimators=200)"
   ]
  },
  {
   "cell_type": "code",
   "execution_count": 25,
   "metadata": {
    "colab": {
     "base_uri": "https://localhost:8080/",
     "height": 75
    },
    "executionInfo": {
     "elapsed": 32540,
     "status": "ok",
     "timestamp": 1687265290134,
     "user": {
      "displayName": "GAYATRI SONAWANE",
      "userId": "15906289157141524786"
     },
     "user_tz": -330
    },
    "id": "GKwcVLx92EOT",
    "outputId": "37c57e57-af9c-465d-e99b-9c686bfbf8da"
   },
   "outputs": [
    {
     "data": {
      "text/html": [
       "<style>#sk-container-id-1 {color: black;}#sk-container-id-1 pre{padding: 0;}#sk-container-id-1 div.sk-toggleable {background-color: white;}#sk-container-id-1 label.sk-toggleable__label {cursor: pointer;display: block;width: 100%;margin-bottom: 0;padding: 0.3em;box-sizing: border-box;text-align: center;}#sk-container-id-1 label.sk-toggleable__label-arrow:before {content: \"▸\";float: left;margin-right: 0.25em;color: #696969;}#sk-container-id-1 label.sk-toggleable__label-arrow:hover:before {color: black;}#sk-container-id-1 div.sk-estimator:hover label.sk-toggleable__label-arrow:before {color: black;}#sk-container-id-1 div.sk-toggleable__content {max-height: 0;max-width: 0;overflow: hidden;text-align: left;background-color: #f0f8ff;}#sk-container-id-1 div.sk-toggleable__content pre {margin: 0.2em;color: black;border-radius: 0.25em;background-color: #f0f8ff;}#sk-container-id-1 input.sk-toggleable__control:checked~div.sk-toggleable__content {max-height: 200px;max-width: 100%;overflow: auto;}#sk-container-id-1 input.sk-toggleable__control:checked~label.sk-toggleable__label-arrow:before {content: \"▾\";}#sk-container-id-1 div.sk-estimator input.sk-toggleable__control:checked~label.sk-toggleable__label {background-color: #d4ebff;}#sk-container-id-1 div.sk-label input.sk-toggleable__control:checked~label.sk-toggleable__label {background-color: #d4ebff;}#sk-container-id-1 input.sk-hidden--visually {border: 0;clip: rect(1px 1px 1px 1px);clip: rect(1px, 1px, 1px, 1px);height: 1px;margin: -1px;overflow: hidden;padding: 0;position: absolute;width: 1px;}#sk-container-id-1 div.sk-estimator {font-family: monospace;background-color: #f0f8ff;border: 1px dotted black;border-radius: 0.25em;box-sizing: border-box;margin-bottom: 0.5em;}#sk-container-id-1 div.sk-estimator:hover {background-color: #d4ebff;}#sk-container-id-1 div.sk-parallel-item::after {content: \"\";width: 100%;border-bottom: 1px solid gray;flex-grow: 1;}#sk-container-id-1 div.sk-label:hover label.sk-toggleable__label {background-color: #d4ebff;}#sk-container-id-1 div.sk-serial::before {content: \"\";position: absolute;border-left: 1px solid gray;box-sizing: border-box;top: 0;bottom: 0;left: 50%;z-index: 0;}#sk-container-id-1 div.sk-serial {display: flex;flex-direction: column;align-items: center;background-color: white;padding-right: 0.2em;padding-left: 0.2em;position: relative;}#sk-container-id-1 div.sk-item {position: relative;z-index: 1;}#sk-container-id-1 div.sk-parallel {display: flex;align-items: stretch;justify-content: center;background-color: white;position: relative;}#sk-container-id-1 div.sk-item::before, #sk-container-id-1 div.sk-parallel-item::before {content: \"\";position: absolute;border-left: 1px solid gray;box-sizing: border-box;top: 0;bottom: 0;left: 50%;z-index: -1;}#sk-container-id-1 div.sk-parallel-item {display: flex;flex-direction: column;z-index: 1;position: relative;background-color: white;}#sk-container-id-1 div.sk-parallel-item:first-child::after {align-self: flex-end;width: 50%;}#sk-container-id-1 div.sk-parallel-item:last-child::after {align-self: flex-start;width: 50%;}#sk-container-id-1 div.sk-parallel-item:only-child::after {width: 0;}#sk-container-id-1 div.sk-dashed-wrapped {border: 1px dashed gray;margin: 0 0.4em 0.5em 0.4em;box-sizing: border-box;padding-bottom: 0.4em;background-color: white;}#sk-container-id-1 div.sk-label label {font-family: monospace;font-weight: bold;display: inline-block;line-height: 1.2em;}#sk-container-id-1 div.sk-label-container {text-align: center;}#sk-container-id-1 div.sk-container {/* jupyter's `normalize.less` sets `[hidden] { display: none; }` but bootstrap.min.css set `[hidden] { display: none !important; }` so we also need the `!important` here to be able to override the default hidden behavior on the sphinx rendered scikit-learn.org. See: https://github.com/scikit-learn/scikit-learn/issues/21755 */display: inline-block !important;position: relative;}#sk-container-id-1 div.sk-text-repr-fallback {display: none;}</style><div id=\"sk-container-id-1\" class=\"sk-top-container\"><div class=\"sk-text-repr-fallback\"><pre>RandomForestClassifier(n_estimators=200)</pre><b>In a Jupyter environment, please rerun this cell to show the HTML representation or trust the notebook. <br />On GitHub, the HTML representation is unable to render, please try loading this page with nbviewer.org.</b></div><div class=\"sk-container\" hidden><div class=\"sk-item\"><div class=\"sk-estimator sk-toggleable\"><input class=\"sk-toggleable__control sk-hidden--visually\" id=\"sk-estimator-id-1\" type=\"checkbox\" checked><label for=\"sk-estimator-id-1\" class=\"sk-toggleable__label sk-toggleable__label-arrow\">RandomForestClassifier</label><div class=\"sk-toggleable__content\"><pre>RandomForestClassifier(n_estimators=200)</pre></div></div></div></div></div>"
      ],
      "text/plain": [
       "RandomForestClassifier(n_estimators=200)"
      ]
     },
     "execution_count": 25,
     "metadata": {},
     "output_type": "execute_result"
    }
   ],
   "source": [
    "rf.fit(X_train ,y_train)"
   ]
  },
  {
   "cell_type": "code",
   "execution_count": 26,
   "metadata": {
    "executionInfo": {
     "elapsed": 2272,
     "status": "ok",
     "timestamp": 1687265315027,
     "user": {
      "displayName": "GAYATRI SONAWANE",
      "userId": "15906289157141524786"
     },
     "user_tz": -330
    },
    "id": "lxavSLZa2KM_"
   },
   "outputs": [],
   "source": [
    "y_pred = rf.predict(X_test)"
   ]
  },
  {
   "cell_type": "code",
   "execution_count": 27,
   "metadata": {
    "executionInfo": {
     "elapsed": 4,
     "status": "ok",
     "timestamp": 1687265368369,
     "user": {
      "displayName": "GAYATRI SONAWANE",
      "userId": "15906289157141524786"
     },
     "user_tz": -330
    },
    "id": "TIYymD2n2Xuz"
   },
   "outputs": [],
   "source": [
    "from sklearn.metrics import classification_report,confusion_matrix,accuracy_score"
   ]
  },
  {
   "cell_type": "code",
   "execution_count": 28,
   "metadata": {
    "colab": {
     "base_uri": "https://localhost:8080/"
    },
    "executionInfo": {
     "elapsed": 3,
     "status": "ok",
     "timestamp": 1687265398688,
     "user": {
      "displayName": "GAYATRI SONAWANE",
      "userId": "15906289157141524786"
     },
     "user_tz": -330
    },
    "id": "PcAxm3sa2lR2",
    "outputId": "449200fe-7032-4339-d0b6-33e0749705ef"
   },
   "outputs": [
    {
     "data": {
      "text/plain": [
       "array([[108, 473],\n",
       "       [118, 532]], dtype=int64)"
      ]
     },
     "execution_count": 28,
     "metadata": {},
     "output_type": "execute_result"
    }
   ],
   "source": [
    "confusion_matrix(y_test, y_pred)"
   ]
  },
  {
   "cell_type": "code",
   "execution_count": 29,
   "metadata": {
    "colab": {
     "base_uri": "https://localhost:8080/"
    },
    "executionInfo": {
     "elapsed": 3,
     "status": "ok",
     "timestamp": 1687265439154,
     "user": {
      "displayName": "GAYATRI SONAWANE",
      "userId": "15906289157141524786"
     },
     "user_tz": -330
    },
    "id": "p4xrO_Ep2ssH",
    "outputId": "5b121393-9f49-4371-9d9a-174db1f5f680"
   },
   "outputs": [
    {
     "name": "stdout",
     "output_type": "stream",
     "text": [
      "              precision    recall  f1-score   support\n",
      "\n",
      "           0       0.48      0.19      0.27       581\n",
      "           1       0.53      0.82      0.64       650\n",
      "\n",
      "    accuracy                           0.52      1231\n",
      "   macro avg       0.50      0.50      0.46      1231\n",
      "weighted avg       0.51      0.52      0.47      1231\n",
      "\n"
     ]
    }
   ],
   "source": [
    "print(classification_report(y_test, y_pred))"
   ]
  },
  {
   "cell_type": "markdown",
   "metadata": {
    "id": "pdxlXL3122kH"
   },
   "source": [
    "# Explanation\n",
    "\n",
    "52% Accuracy was achieved using Random Forest Classifier"
   ]
  }
 ],
 "metadata": {
  "colab": {
   "authorship_tag": "ABX9TyOkKf3Br6MRs8IIxYr5Zjio",
   "provenance": []
  },
  "kernelspec": {
   "display_name": "Python 3 (ipykernel)",
   "language": "python",
   "name": "python3"
  },
  "language_info": {
   "codemirror_mode": {
    "name": "ipython",
    "version": 3
   },
   "file_extension": ".py",
   "mimetype": "text/x-python",
   "name": "python",
   "nbconvert_exporter": "python",
   "pygments_lexer": "ipython3",
   "version": "3.11.5"
  }
 },
 "nbformat": 4,
 "nbformat_minor": 1
}
